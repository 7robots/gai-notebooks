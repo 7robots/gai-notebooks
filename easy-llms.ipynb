{
 "cells": [
  {
   "cell_type": "markdown",
   "metadata": {},
   "source": [
    "# Easy-LLMS Jupyter Cookbook\n",
    "\n",
    "## Introduction\n",
    "\n",
    "This notebook provides a cookbook tutorial for using Ventz' Easy-LLMS utility for working with GAI LLM's \n",
    "\n",
    "## Dependencies\n",
    "\n",
    "This notebook tutorial has been built with the following dependencies:\n",
    "\n",
    "- https://github.com/ventz/easy-llms\n",
    "- Docker\n",
    "- https://github.com/7robots/GAI-Jupyter-Docker"
   ]
  },
  {
   "cell_type": "markdown",
   "metadata": {},
   "source": [
    "## OpenAI Example"
   ]
  },
  {
   "cell_type": "code",
   "execution_count": 2,
   "metadata": {},
   "outputs": [
    {
     "name": "stdout",
     "output_type": "stream",
     "text": [
      "I am an AI language model based on OpenAI's GPT-4. How can I assist you today?\n"
     ]
    }
   ],
   "source": [
    "from llms import *\n",
    "answer = gpt_4o().run(\"what llm are you?\")\n",
    "print(answer)"
   ]
  },
  {
   "cell_type": "markdown",
   "metadata": {},
   "source": [
    "## List Model providers"
   ]
  },
  {
   "cell_type": "code",
   "execution_count": 29,
   "metadata": {},
   "outputs": [
    {
     "name": "stdout",
     "output_type": "stream",
     "text": [
      "['openai', 'azure', 'aws', 'google', 'ollama']\n"
     ]
    }
   ],
   "source": [
    "from llms import llms\n",
    "print(llms.list())"
   ]
  },
  {
   "cell_type": "markdown",
   "metadata": {},
   "source": [
    "## List the LLM's available thru AWS Bedroock with this API Key"
   ]
  },
  {
   "cell_type": "code",
   "execution_count": 30,
   "metadata": {},
   "outputs": [
    {
     "name": "stdout",
     "output_type": "stream",
     "text": [
      "['claude_3_haiku', 'claude_3_sonnet', 'claude_3_opus', 'claude_35_sonnet', 'claude_1_instant', 'claude_2', 'llama2_70b', 'llama3_8b_instruct', 'llama3_70b_instruct', 'mistral_7b_instruct', 'mistral_large', 'mistral_small', 'mixtral_8x7b_instruct', 'cohere_command_14', 'cohere_command_light_14', 'j2_mid', 'j2_ultra', 'titan_lite_v1', 'titan_express_v1', 'titan_premier_v1']\n"
     ]
    }
   ],
   "source": [
    "from llms import aws\n",
    "print(aws.list())"
   ]
  },
  {
   "cell_type": "markdown",
   "metadata": {},
   "source": [
    "## List the LLM's available from OpenAI"
   ]
  },
  {
   "cell_type": "code",
   "execution_count": 31,
   "metadata": {},
   "outputs": [
    {
     "name": "stdout",
     "output_type": "stream",
     "text": [
      "['gpt_35_turbo', 'gpt_35_turbo_16k', 'gpt_4_turbo', 'gpt_4o', 'gpt_4', 'gpt_4_32k']\n"
     ]
    }
   ],
   "source": [
    "from llms import openai\n",
    "print(openai.list())"
   ]
  },
  {
   "cell_type": "markdown",
   "metadata": {},
   "source": [
    "## AWS Bedrock Claude Example"
   ]
  },
  {
   "cell_type": "code",
   "execution_count": 4,
   "metadata": {},
   "outputs": [
    {
     "name": "stdout",
     "output_type": "stream",
     "text": [
      "I am an artificial intelligence created by Anthropic, but I'm not sure of the exact details of the language model or architecture that was used to create me. I know I was trained using Anthropic's constitutional AI approach, but the specifics of the model are not something I have direct knowledge of. I'm an AI assistant focused on being helpful, harmless, and honest in my interactions.\n"
     ]
    }
   ],
   "source": [
    "answer = claude_3_haiku().run(\"what llm are you?\")\n",
    "print(answer)"
   ]
  },
  {
   "cell_type": "markdown",
   "metadata": {},
   "source": [
    "## AWS Bedrock Llama Example"
   ]
  },
  {
   "cell_type": "code",
   "execution_count": 5,
   "metadata": {},
   "outputs": [
    {
     "name": "stdout",
     "output_type": "stream",
     "text": [
      "I am LLaMA, an AI assistant developed by Meta AI that can understand and respond to human input in a conversational manner. I'm a large language model trained on a massive dataset of text from the internet and can generate human-like responses to a wide range of topics and questions. I'm constantly learning and improving, so please bear with me if I make any mistakes. I'm here to help and provide information to the best of my abilities!\n"
     ]
    }
   ],
   "source": [
    "answer = llama3_70b_instruct().run(\"what llm are you?\")\n",
    "print(answer)"
   ]
  },
  {
   "cell_type": "markdown",
   "metadata": {},
   "source": [
    "## Compare answers to the same question from multiple LLM's"
   ]
  },
  {
   "cell_type": "code",
   "execution_count": 9,
   "metadata": {},
   "outputs": [
    {
     "name": "stdout",
     "output_type": "stream",
     "text": [
      "\n",
      " GPT4o: \n",
      "The five largest impact craters on the Moon, sorted by diameter, are:\n",
      "\n",
      "1. **South Pole–Aitken Basin**: Approximately 2,500 kilometers in diameter and about 13 kilometers deep, it is one of the largest known impact craters in the Solar System.\n",
      "\n",
      "2. **Imbrium Basin**: Roughly 1,145 kilometers in diameter, this is one of the most prominent features on the Moon's near side.\n",
      "\n",
      "3. **Crisium Basin**: About 1,145 kilometers in diameter, this basin is located on the Moon's near side and is filled with basaltic lava.\n",
      "\n",
      "4. **Serenitatis Basin**: Approximately 740 kilometers in diameter, this basin is also on the near side of the Moon and is partially filled with lava.\n",
      "\n",
      "5. **Nectaris Basin**: Around 860 kilometers in diameter, this basin is located on the near side of the Moon and is one of the older large impact basins.\n",
      "\n",
      "These measurements are approximate, as the exact dimensions can vary based on different sources and methods of measurement.\n",
      "\n",
      " Claude 3 Sonnet: \n",
      "The five largest impact craters on the Moon, sorted by diameter from largest to smallest, are:\n",
      "\n",
      "1. South Pole-Aitken Basin\n",
      "   Diameter: Approximately 2,500 km (1,550 miles)\n",
      "   Location: Near the Moon's south pole on the far side\n",
      "\n",
      "2. Imbrium Basin\n",
      "   Diameter: Approximately 1,145 km (711 miles)\n",
      "   Location: Northwestern quadrant of the near side\n",
      "\n",
      "3. Serenitatis Basin\n",
      "   Diameter: Approximately 920 km (570 miles)\n",
      "   Location: East of the Imbrium Basin on the near side\n",
      "\n",
      "4. Crisium Basin\n",
      "   Diameter: Approximately 740 km (460 miles)\n",
      "   Location: Northeastern quadrant of the near side\n",
      "\n",
      "5. Smythii Basin\n",
      "   Diameter: Approximately 740 km (460 miles)\n",
      "   Location: Near the eastern limb of the near side\n",
      "\n",
      "It's worth noting that these are all impact basins rather than simple craters. Impact basins are formed by particularly large collisions and have more complex structures than smaller craters.\n",
      "\n",
      " Llama 3_70b: \n",
      "Here are the five largest impact craters on the Moon, sorted by diameter:\n",
      "\n",
      "1. **Aitken Basin**: approximately 2,500 km (1,553 miles) in diameter\n",
      "\t* Located on the Moon's far side, Aitken Basin is not only the largest impact crater on the Moon but also one of the largest in the entire solar system. It's believed to have been formed around 3.9 billion years ago.\n",
      "2. **South Pole-Aitken Basin**: approximately 2,400 km (1,491 miles) in diameter\n",
      "\t* Although often considered part of the Aitken Basin, the South Pole-Aitken Basin is a distinct impact crater that overlaps with Aitken. It's also located on the far side of the Moon.\n",
      "3. **Imbrium Basin**: approximately 1,300 km (808 miles) in diameter\n",
      "\t* Located in the northwest part of the Moon's near side, the Imbrium Basin is a prominent impact crater that's easily visible from Earth. It's believed to have been formed around 3.8 billion years ago.\n",
      "4. **Serenitatis Basin**: approximately 920 km (572 miles) in diameter\n",
      "\t* Situated in the northeastern part of the Moon's near side, the Serenitatis Basin is another large impact crater that's visible from Earth. It's thought to have been formed around 3.9 billion years ago.\n",
      "5. **Crater Mendel-Rydberg**: approximately 630 km (391 miles) in diameter\n",
      "\t* Located on the Moon's eastern edge, Crater Mendel-Rydberg is a large impact crater that's not as well-known as some of the others on this list. It's believed to have been formed around 3.8 billion years ago.\n",
      "\n",
      "Note: The sizes of lunar craters can be difficult to measure accurately, so these diameters are approximate.\n"
     ]
    }
   ],
   "source": [
    "question = \"What are the five largest impact craters on the Moon, sorted by diameter\"\n",
    "\n",
    "print(\"\\n GPT4o: \\n\" + gpt_4o().run(question))\n",
    "print(\"\\n Claude 3 Sonnet: \\n\" + claude_35_sonnet().run(question))\n",
    "print(\"\\n Llama 3_70b: \\n\" + llama3_70b_instruct().run(question))"
   ]
  },
  {
   "cell_type": "markdown",
   "metadata": {},
   "source": [
    "## Advanced option: temperature"
   ]
  },
  {
   "cell_type": "code",
   "execution_count": 33,
   "metadata": {},
   "outputs": [
    {
     "name": "stdout",
     "output_type": "stream",
     "text": [
      "0.2: \n",
      "Contractualism is a moral theory that suggests that the rightness or wrongness of actions is determined by principles that individuals would agree upon under certain hypothetical conditions. It is rooted in the idea of a social contract, where moral norms and rules are justified based on the agreement of rational agents.\n",
      "\n",
      "One of the most prominent contemporary proponents of contractualism is philosopher T.M. Scanlon, who articulated the theory in his book \"What We Owe to Each Other.\" According to Scanlon's version of contractualism, an action is morally wrong if it is based on principles that no one could reasonably reject, given the aim of finding principles that others, similarly motivated, could not reasonably reject.\n",
      "\n",
      "Contractualism emphasizes mutual respect and the importance of justifying our actions to others. It contrasts with other moral theories like utilitarianism, which focuses on maximizing overall happiness, or deontology, which emphasizes adherence to moral rules or duties. Instead, contractualism focuses on the process of agreement and the reasons individuals have for accepting or rejecting certain principles.\n",
      "Error invoking the chain: Error code: 500 - {'error': {'message': 'The server had an error while processing your request. Sorry about that!', 'type': 'server_error', 'param': None, 'code': None}}\n"
     ]
    },
    {
     "ename": "TypeError",
     "evalue": "can only concatenate str (not \"NoneType\") to str",
     "output_type": "error",
     "traceback": [
      "\u001b[0;31m---------------------------------------------------------------------------\u001b[0m",
      "\u001b[0;31mTypeError\u001b[0m                                 Traceback (most recent call last)",
      "Cell \u001b[0;32mIn[33], line 2\u001b[0m\n\u001b[1;32m      1\u001b[0m \u001b[38;5;28mprint\u001b[39m(\u001b[38;5;124m\"\u001b[39m\u001b[38;5;124m0.2: \u001b[39m\u001b[38;5;130;01m\\n\u001b[39;00m\u001b[38;5;124m\"\u001b[39m \u001b[38;5;241m+\u001b[39m gpt_4o(temperature\u001b[38;5;241m=\u001b[39m\u001b[38;5;241m0.2\u001b[39m)\u001b[38;5;241m.\u001b[39mrun(\u001b[38;5;124m\"\u001b[39m\u001b[38;5;124min moral philosophy, what is contractualism?\u001b[39m\u001b[38;5;124m\"\u001b[39m))\n\u001b[0;32m----> 2\u001b[0m \u001b[38;5;28mprint\u001b[39m(\u001b[38;5;124;43m\"\u001b[39;49m\u001b[38;5;130;43;01m\\n\u001b[39;49;00m\u001b[38;5;124;43m 1.8: \u001b[39;49m\u001b[38;5;130;43;01m\\n\u001b[39;49;00m\u001b[38;5;124;43m\"\u001b[39;49m\u001b[43m \u001b[49m\u001b[38;5;241;43m+\u001b[39;49m\u001b[43m \u001b[49m\u001b[43mgpt_4o\u001b[49m\u001b[43m(\u001b[49m\u001b[43mtemperature\u001b[49m\u001b[38;5;241;43m=\u001b[39;49m\u001b[38;5;241;43m1.8\u001b[39;49m\u001b[43m)\u001b[49m\u001b[38;5;241;43m.\u001b[39;49m\u001b[43mrun\u001b[49m\u001b[43m(\u001b[49m\u001b[38;5;124;43m\"\u001b[39;49m\u001b[38;5;124;43min moral philosophy, what is contractualism?\u001b[39;49m\u001b[38;5;124;43m\"\u001b[39;49m\u001b[43m)\u001b[49m)\n",
      "\u001b[0;31mTypeError\u001b[0m: can only concatenate str (not \"NoneType\") to str"
     ]
    }
   ],
   "source": [
    "print(\"0.2: \\n\" + gpt_4o(temperature=0.2).run(\"in moral philosophy, what is contractualism?\"))\n",
    "print(\"\\n 1.8: \\n\" + gpt_4o(temperature=1.8).run(\"in moral philosophy, what is contractualism?\"))\n"
   ]
  },
  {
   "cell_type": "markdown",
   "metadata": {},
   "source": [
    "## Advanced option: max tokens"
   ]
  },
  {
   "cell_type": "code",
   "execution_count": 26,
   "metadata": {},
   "outputs": [
    {
     "name": "stdout",
     "output_type": "stream",
     "text": [
      "Max Tokens: 100 \n",
      "The neocortex, also known as the cerebral cortex, is a critical part of the brain in mammals, particularly in humans. It is the outermost layer of the brain and is involved in a wide range of higher-order brain functions. Here are some of its primary purposes:\n",
      "\n",
      "1. **Sensory Perception**: The neocortex processes sensory information from the body, including visual, auditory, tactile, and olfactory inputs. Different regions of the neocortex are specialized for processing different\n"
     ]
    }
   ],
   "source": [
    "print(\"Max Tokens: 100 \\n\" + gpt_4o(max_tokens=100).run(\"Describe the purpose of the neocortex\"))"
   ]
  },
  {
   "cell_type": "markdown",
   "metadata": {},
   "source": [
    "## Advanced options: Top P, Presence and Frequency penalties\n",
    "\n",
    "- Top P: influences the range of diversity of probable words to be used in text generation\n",
    "\n",
    "- Presence Penalty, Frequency Penalty (can be used to influence the likelihood of repetitive wording)"
   ]
  },
  {
   "cell_type": "code",
   "execution_count": 28,
   "metadata": {},
   "outputs": [
    {
     "name": "stdout",
     "output_type": "stream",
     "text": [
      "The Antikythera mechanism is an ancient Greek analog device that dates back to around 100-200 BCE. It was discovered in 1901 among the remains of a shipwreck off the coast of the Greek island of Antikythera. The mechanism is often considered one of the earliest known examples of a complex geared device, sometimes referred to as an early form of a mechanical computer.\n",
      "\n",
      "The primary purpose of the Antikythera mechanism appears to have been astronomical. It could predict astronomical positions and eclipses for calendrical and astrological purposes decades in advance. The device includes numerous gears and dials, which allowed it to model various celestial cycles, such as:\n",
      "\n",
      "1. **The Metonic Cycle**: A period of approximately 19 years after which lunar phases repeat on the same days.\n",
      "2. **The Saros Cycle**: An eclipse prediction cycle lasting about 18 years.\n",
      "3. **The Callippic Cycle**: A more refined version of the Metonic cycle spanning 76 years.\n",
      "4. **Planetary Movements**: Indications suggest it may have tracked movements related to some planets.\n",
      "\n",
      "Its intricate design demonstrates advanced knowledge in mathematics, astronomy, and engineering by ancient Greeks far ahead of its time.\n",
      "\n",
      "Modern studies using X-ray imaging and other techniques have revealed much about its internal structure and functions, though some aspects remain subjects for ongoing research and debate within scientific communities.\n"
     ]
    }
   ],
   "source": [
    "print(gpt_4o(top_p=1, presence_penalty=1, frequency_penalty=1).run(\"What is the Antikythera mechanism?\"))"
   ]
  },
  {
   "cell_type": "code",
   "execution_count": null,
   "metadata": {},
   "outputs": [],
   "source": []
  }
 ],
 "metadata": {
  "kernelspec": {
   "display_name": "Python 3 (ipykernel)",
   "language": "python",
   "name": "python3"
  },
  "language_info": {
   "codemirror_mode": {
    "name": "ipython",
    "version": 3
   },
   "file_extension": ".py",
   "mimetype": "text/x-python",
   "name": "python",
   "nbconvert_exporter": "python",
   "pygments_lexer": "ipython3",
   "version": "3.11.6"
  }
 },
 "nbformat": 4,
 "nbformat_minor": 4
}
