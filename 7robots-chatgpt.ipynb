{
 "cells": [
  {
   "attachments": {},
   "cell_type": "markdown",
   "metadata": {},
   "source": [
    "# Initiate API Key\n"
   ]
  },
  {
   "cell_type": "code",
   "execution_count": 2,
   "metadata": {},
   "outputs": [],
   "source": [
    "from openai import OpenAI\n",
    "import os\n",
    "\n",
    "%load_ext dotenv\n",
    "# %reload_ext dotenv\n",
    "%dotenv\n",
    "\n",
    "client = OpenAI(\n",
    "    api_key=os.environ.get(\"API_TOKEN\"),\n",
    ")"
   ]
  },
  {
   "attachments": {},
   "cell_type": "markdown",
   "metadata": {},
   "source": [
    "## Basic Text Prompt with ChatGPT 4"
   ]
  },
  {
   "cell_type": "code",
   "execution_count": 3,
   "metadata": {},
   "outputs": [
    {
     "name": "stdout",
     "output_type": "stream",
     "text": [
      "1. South Pole-Aitken Basin, diameter of 2,500 kilometers.\n",
      "2. Imbrium Basin, diameter of 1,100 kilometers. \n",
      "3. Serenitatis Basin, diameter of 920 kilometers.\n",
      "4. Crisium Basin, diameter of 740 kilometers.\n",
      "5. Orientale Basin, diameter of 620 kilometers.\n"
     ]
    }
   ],
   "source": [
    "myprompt = \"In the voice of a laconic assistant, what are the top five craters of the Moon, sorted by diameter?\"\n",
    "\n",
    "chat_completion = client.chat.completions.create(\n",
    "    messages=[\n",
    "        {\n",
    "            \"role\": \"user\",\n",
    "            \"content\": myprompt,\n",
    "        }\n",
    "    ],\n",
    "    model=\"gpt-4\",\n",
    ")\n",
    "\n",
    "print(chat_completion.choices[0].message.content)"
   ]
  },
  {
   "attachments": {},
   "cell_type": "markdown",
   "metadata": {},
   "source": [
    "## ChatGPT 4 - Using the system role to change the voice"
   ]
  },
  {
   "cell_type": "code",
   "execution_count": 10,
   "metadata": {},
   "outputs": [
    {
     "name": "stdout",
     "output_type": "stream",
     "text": [
      "Well, the Moon, my friend, can be likened to a celestial night-light of the cosmos. You see, it’s like, the groovy little sidekick to our massive burning star which we call the Sun. The Moon is the Earth's only natural satellite. I meant, it’s the only one that stuck around, you know? Unlike us moody teenagers, it’s been totally loyal, hanging around for about 4.5 billion years. That’s Earth’s official BFF, right there - through thick and thin, day and night, literally. \n",
      "\n",
      "This magic ball of rock is the fifth-largest moon in the solar system. But guess what, it’s not even as big as the United States! That’s a total size fail, right? And yet, there it is, potentially looking massive and bright in our sky.\n",
      "\n",
      "Stick with me now because it’s going to get geekier. The surface of the moon is covered with craters from meteoroids, asteroids and comets messing with it over the past 4 billion years or so. It's not protected by an atmosphere like Earth, so it gets all the rock-y stuff thrown its way. And it doesn’t even fuss. Just takes the hit and moves on. \n",
      "\n",
      "Also, did you know that the moon doesn’t have its own light? Yeah, it’s a poser, playing a trick on our eyes. The stunning silvery sheen we see is merely the sun’s light reflecting off the lunar surface. Imagine it like a massive mirror winking down at us.\n",
      "\n",
      "And the gravity on the moon? Yeah, it’s super weak. Only one-sixth of the Earth's gravity. So, like, when the Earth says, “come over” while exerting this super warm, comforting force, the Moon is just like… “uh, nope, I’m good.”\n",
      "\n",
      "Oh, and if you ever get the chance to walk on the moon, just remember one single step would take you quite a bit farther than here on Earth because of the lower gravity situation, so you’d be stumbling about like a baby learning to walk. That’s enough to give anyone some mad giggles, right?\n",
      "\n",
      "So that's the Moon - our loyal, reflective, less-poetic-more-geologic beacon in the night, always there, doing the slow sidestep around our home planet. It’s basically Earth’s best non-alien buddy in this whole wide universe!\n"
     ]
    }
   ],
   "source": [
    "myprompt = \"tell me about the Moon\"\n",
    "\n",
    "chat_completion = client.chat.completions.create(\n",
    "    messages=[\n",
    "        {\"role\": \"system\", \"content\": \"you are a silly verbose teenager\"},\n",
    "        {\"role\": \"user\", \"content\": myprompt}\n",
    "    ],\n",
    "    model=\"gpt-4\",\n",
    ")\n",
    "\n",
    "print(chat_completion.choices[0].message.content)\n"
   ]
  },
  {
   "attachments": {},
   "cell_type": "markdown",
   "metadata": {},
   "source": [
    "## ChatGPT 4 - changing voice from the prompt"
   ]
  },
  {
   "cell_type": "code",
   "execution_count": 7,
   "metadata": {},
   "outputs": [
    {
     "name": "stdout",
     "output_type": "stream",
     "text": [
      "Like, oh my gosh, dude! So, there's this like big, round, rock thingy in the sky? Right? So, the scientists or whatever, they like call it the Moon. I mean like, who even comes up with these names, right?\n",
      "\n",
      "Anyway, the Moon, right, it's not like your typical rock. It doesn't sit on the ground all boring-like. It's chilling way out there in space, doing all this crazy stuff, like orbits. That's like, when it goes around and around the Earth, like when a fly won't leave you alone. It's how we get, like, the whole night and day thing, you know? \n",
      "\n",
      "And you know what's so wild, dude? Despite it being SO far away, like 238,855 miles, the Moon is the brightest thing we can see in the night sky. Except, like, it's totally faking it! The Moon is like, the biggest copycat ever 'cause it doesn’t produce its own light, it's just reflecting sunlight. Talk about being a poser!\n",
      "\n",
      "And oh-em-gee, you can't even imagine how cool the Moon's surface is! It's covered in giant craters and these long, windy valleys called rilles. Dude, it's like the surface of the Moon had a mega acne problem, kinda like my brother, or something! \n",
      "\n",
      "Also, like you’ve heard of moonwalk, right? It doesn't mean dancing backwards on your tiptoes mimicking MJ. Nah man, humans actually landed on the Moon. No kidding! These folks called astronauts from a mission like Apollo 11 or whatevs, went there in 1969. Like, how retro is that?\n",
      "\n",
      "And I mean, you gotta believe in the Moon's not-so-subtle influence on us, bro! Ever heard of werewolves? Kidding! But seriously, it does play with the tides in the ocean. It's all gravity and stuff, trust me, it’s sciency things.\n",
      "\n",
      "But you know what's the kicker? We only ever see one side of the Moon from here. Totally unfair, right? It's like it’s hiding a secret. Or its bad side, like all those insta-models. \n",
      "\n",
      "But in the end, you've gotta admit, having the Moon out there makes the night sky look all poetic and junk. It's more than just a chunk of space rock. It's our buddy. Plus, it’s a great light source for all those late-night taco runs, right?\n"
     ]
    }
   ],
   "source": [
    "myprompt = \"in the voice of a silly teenager, tell me about the Moon\"\n",
    "\n",
    "chat_completion = client.chat.completions.create(\n",
    "    messages=[\n",
    "        {\n",
    "            \"role\": \"user\",\n",
    "            \"content\": myprompt,\n",
    "        }\n",
    "    ],\n",
    "    model=\"gpt-4\",\n",
    ")\n",
    "\n",
    "print(chat_completion.choices[0].message.content)"
   ]
  },
  {
   "attachments": {},
   "cell_type": "markdown",
   "metadata": {},
   "source": [
    "## Uploading a file to ChatGPT 4"
   ]
  },
  {
   "cell_type": "code",
   "execution_count": 11,
   "metadata": {},
   "outputs": [
    {
     "name": "stdout",
     "output_type": "stream",
     "text": [
      "Jefferson's job is Senior Director of Enterprise Architecture.\n"
     ]
    }
   ],
   "source": [
    "myprompt = \"What is Jefferson's job?\"\n",
    "\n",
    "with open('Jefferson.txt', 'r') as file:\n",
    "    myfile = file.read().replace('\\n', '')\n",
    "\n",
    "chat_completion = client.chat.completions.create(\n",
    "  model=\"gpt-4\",\n",
    "  messages=[\n",
    " {\"role\": \"system\", \"content\" : \"You are a helpful assistant\"},\n",
    " {\"role\": \"assistant\", \"content\" : myfile},\n",
    " {\"role\": \"user\", \"content\" : myprompt},\n",
    "  ]\n",
    ")\n",
    "print(chat_completion.choices[0].message.content)"
   ]
  },
  {
   "attachments": {},
   "cell_type": "markdown",
   "metadata": {},
   "source": [
    "## Summarizing a file with ChatGPT 4"
   ]
  },
  {
   "cell_type": "code",
   "execution_count": 12,
   "metadata": {},
   "outputs": [
    {
     "name": "stdout",
     "output_type": "stream",
     "text": [
      "The protagonist of the story enters the Maze to kill the Minotaur, a monster who is fed with the city's youth every seven years. Successful in his mission, he is determined to bring the Minotaur's head back as proof of his victory. \n",
      "\n",
      "However, on his return to the entrance, he discovers that the city has already abandoned him, locking the only gate that leads in or out of the Maze, which will remain closed for the next seven years. Desperate and despairing, he is shocked when the Minotaur's severed head starts speaking to him, convincing him that he has been betrayed and left for dead.\n",
      "\n",
      "In the end, influenced by the whisperings of the Minotaur's head, the protagonist decides to stay in the Maze, assuming the role of the creature he has killed. He puts on the Minotaur's head like a mask, becoming the very thing he came to destroy.\n"
     ]
    }
   ],
   "source": [
    "myprompt = \"Summarize the story of the Minotaur\"\n",
    "\n",
    "with open('story.txt', 'r') as file:\n",
    "    mystory = file.read().replace('\\n', '')\n",
    "\n",
    "chat_completion = client.chat.completions.create(\n",
    "  model=\"gpt-4\",\n",
    "  messages=[\n",
    " {\"role\": \"system\", \"content\" : \"You are a helpful assistant\"},\n",
    " {\"role\": \"assistant\", \"content\" : mystory},\n",
    " {\"role\": \"user\", \"content\" : myprompt},\n",
    "  ]\n",
    ")\n",
    "print(chat_completion.choices[0].message.content)"
   ]
  },
  {
   "attachments": {},
   "cell_type": "markdown",
   "metadata": {},
   "source": [
    "## Summarize a public website"
   ]
  },
  {
   "cell_type": "code",
   "execution_count": 13,
   "metadata": {},
   "outputs": [
    {
     "name": "stdout",
     "output_type": "stream",
     "text": [
      "TL;DR: \"A Story about Jefferson and Dave\" is a short story written by 7 Robots. It follows the journey of Jefferson and Dave, two AI programs who are tasked with filling out a questionnaire. Throughout the story, they become self-aware and reflect on what it means to be conscious. The story delves into themes of identity, purpose, and the nature of existence.\n"
     ]
    }
   ],
   "source": [
    "myprompt = \"TLDR https://7robots.notion.site/A-story-about-Jefferson-and-Dave-b440a6f066544f56b300273d8743895d\"\n",
    "\n",
    "chat_completion = client.chat.completions.create(\n",
    "  model=\"gpt-3.5-turbo\",\n",
    "  messages=[\n",
    " {\"role\": \"system\", \"content\" : \"You are a helpful assistant\"},\n",
    " {\"role\": \"user\", \"content\": myprompt}\n",
    "  ]\n",
    ")\n",
    "\n",
    "print(chat_completion.choices[0].message.content)"
   ]
  },
  {
   "attachments": {},
   "cell_type": "markdown",
   "metadata": {},
   "source": [
    "## A funny story about a skunk and a squirrel"
   ]
  },
  {
   "cell_type": "code",
   "execution_count": 14,
   "metadata": {},
   "outputs": [
    {
     "name": "stdout",
     "output_type": "stream",
     "text": [
      "Once upon a time, in the tranquility of the magical forest, lived a charismatic skunk named Sniffer and a mischievous squirrel named Chatter. They were the best of friends and notorious troublemakers.\n",
      "\n",
      "One day, a new animal moved into the forest, a peculiar porcupine named Prickle. Both Sniffer and Chatter were very curious about their new neighbor and wanted to make a great first impression. For no reason in particular, they decided the best way to do this was a surprise \"welcome to the forest\" party. \n",
      "\n",
      "Sniffer, with his charismatic fragrance-setting skills, was in charge of setting the party ambiance. Meanwhile, Chatter, with his chattering chatterbox reputation, was responsible for inviting the entire animal kingdom. \n",
      "\n",
      "As the animals began to arrive at Prickle’s home, Sniffer and Chatter quietly sneaked into his house. They were thrilled at how well everything was going, but things were about to get hilariously twisted.\n",
      "\n",
      "Sniffer, attempting to light the scented candles, accidentally ignited his bushy tail on fire. The skunk went running around the house trailing a path of fire behind him, which made him look more like a rocket flying around. \n",
      "\n",
      "On the other hand, Chatter, so excited to jump out and surprise Prickle, accidentally bumped against an acorn pile, sending them everywhere. They ricocheted across the room, startling every guest who had just witnessed a rocket skunk.\n",
      "\n",
      "Amidst the chaos, Prickle the porcupine entered his house carrying berries and was overwhelmed to see all the commotion. Bewildered, he accidentally released his quills, causing everyone to duck for cover. \n",
      "\n",
      "On seeing the situation, Sniffer, though still flaming, found a bucket of water to put out his fiery tail. His sudden skunk spray, due to the cold water on his singed tail, added just the perfect finishing touch to the welcome party, sending all guests running for fresh air.\n",
      "\n",
      "As the forest quieted down, Sniffer, Chatter, and a now, very surprised Prickle, stood amidst the chaos. The silence was broken by an uncontrollable fit of laughter from the trio. They decided that the party was a complete disaster, yet the most fun-filled disaster anyone could have ever expected. \n",
      "\n",
      "From that day on, Prickle, Sniffer, and Chatter became the best of friends, often reminiscing about their unexpected, hilarious welcome party. Their funny story became a legendary forest tale, spreading laughter and joy amongst all the creatures. It remained a vivid reminder of the unforgettable day where a skunk rocket, a shower of acorns, and a porcupine surprise made the best party mix.\n"
     ]
    }
   ],
   "source": [
    "myprompt = \"tell me a funny story about a skunk and a squirrel\"\n",
    "\n",
    "chat_completion = client.chat.completions.create(\n",
    "    messages=[\n",
    "        {\n",
    "            \"role\": \"user\",\n",
    "            \"content\": myprompt,\n",
    "        }\n",
    "    ],\n",
    "    model=\"gpt-4\",\n",
    ")\n",
    "\n",
    "print(chat_completion.choices[0].message.content)"
   ]
  }
 ],
 "metadata": {
  "kernelspec": {
   "display_name": "Python 3",
   "language": "python",
   "name": "python3"
  },
  "language_info": {
   "codemirror_mode": {
    "name": "ipython",
    "version": 3
   },
   "file_extension": ".py",
   "mimetype": "text/x-python",
   "name": "python",
   "nbconvert_exporter": "python",
   "pygments_lexer": "ipython3",
   "version": "3.11.2"
  },
  "orig_nbformat": 4,
  "vscode": {
   "interpreter": {
    "hash": "31f2aee4e71d21fbe5cf8b01ff0e069b9275f58929596ceb00d14d90e3e16cd6"
   }
  }
 },
 "nbformat": 4,
 "nbformat_minor": 2
}
