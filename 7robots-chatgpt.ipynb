{
 "cells": [
  {
   "attachments": {},
   "cell_type": "markdown",
   "metadata": {},
   "source": [
    "# Initiate API Key\n"
   ]
  },
  {
   "cell_type": "code",
   "execution_count": 14,
   "metadata": {},
   "outputs": [],
   "source": [
    "import openai\n",
    "import os\n",
    "\n",
    "%load_ext dotenv\n",
    "# %reload_ext dotenv\n",
    "%dotenv\n",
    "\n",
    "openai.api_key = os.environ.get(\"API_TOKEN\")"
   ]
  },
  {
   "attachments": {},
   "cell_type": "markdown",
   "metadata": {},
   "source": [
    "## Prompt with GPT 3.0 Text Completion"
   ]
  },
  {
   "cell_type": "code",
   "execution_count": 2,
   "metadata": {},
   "outputs": [
    {
     "name": "stdout",
     "output_type": "stream",
     "text": [
      "Enterprise Architecture is a powerful tool for a university to improve the efficiency, effectiveness, agility, and governance of their IT systems. It provides an integrated view of the university’s IT environment, allowing them to better understand how the different pieces fit together and how they can be used to achieve organizational goals. By understanding the university’s current and future IT needs, they can develop a roadmap to achieve those goals. Enterprise Architecture also allows the university to align IT initiatives with the university’s strategic objectives, ensuring that the university’s IT investments are in line with its goals. Finally, Enterprise Architecture can enable the university to create a more secure and resilient IT infrastructure, protecting the university’s data and systems.\n"
     ]
    }
   ],
   "source": [
    "myprompt = \"describe the value of Enterprise Architecture to a university\"\n",
    "\n",
    "response = openai.Completion.create(\n",
    "    engine=\"text-davinci-003\",\n",
    "    prompt=myprompt,\n",
    "    max_tokens=200,\n",
    "    n=1,\n",
    "    stop=None,\n",
    "    temperature=0.7,\n",
    ")\n",
    "\n",
    "message = response.choices[0].text.strip()\n",
    "print(message)"
   ]
  },
  {
   "attachments": {},
   "cell_type": "markdown",
   "metadata": {},
   "source": [
    "## Basic Text Prompt with ChatGPT 3.5 Turbo"
   ]
  },
  {
   "cell_type": "code",
   "execution_count": 3,
   "metadata": {},
   "outputs": [
    {
     "name": "stdout",
     "output_type": "stream",
     "text": [
      "Sure, the top five craters on the Moon ranked by diameter are:\n",
      "\n",
      "1. South Pole-Aitken Basin - 2,500 km\n",
      "2. Mare Imbrium - 1,145 km\n",
      "3. Serenitatis Basin - 840 km\n",
      "4. Crisium Basin - 738 km\n",
      "5. Nectaris Basin - 710 km\n",
      "\n",
      "That oughtta do it.\n"
     ]
    }
   ],
   "source": [
    "myprompt = \"In the voice of a laconic assistant, what are the top five craters of the Moon, sorted by diameter?\"\n",
    "\n",
    "completion = openai.ChatCompletion.create(\n",
    "  model=\"gpt-3.5-turbo\",\n",
    "  messages=[\n",
    "    {\"role\": \"user\", \"content\": myprompt}\n",
    "  ]\n",
    ")\n",
    "\n",
    "print(completion.choices[0].message.content)"
   ]
  },
  {
   "attachments": {},
   "cell_type": "markdown",
   "metadata": {},
   "source": [
    "## Basic Chat Prompt with ChatGPT 3.5 Turbo"
   ]
  },
  {
   "cell_type": "code",
   "execution_count": 4,
   "metadata": {},
   "outputs": [
    {
     "name": "stdout",
     "output_type": "stream",
     "text": [
      "As a geologist, I am thrilled to share with you the top five craters of the Moon, sorted by their diameter! These craters have an immense impact on the lunar surface and provide us with valuable insight into the Moon's geological history.\n",
      "\n",
      "1. South Pole-Aitken Basin: This magnificent crater is the largest known impact structure in the solar system, measuring approximately 2,500 km in diameter. It is located on the southern hemisphere of the Moon and is believed to have formed over 4 billion years ago. The basin is estimated to be 13 km deep, making it a precious geological feature on the Moon.\n",
      "\n",
      "2. Imbrium Basin: The Imbrium Basin is the second-largest crater on the Moon, measuring about 1,100 km in diameter. Located in the northwest region of the Moon, the Imbrium Basin is one of the most studied craters on the Moon due to its unique geological features. It is believed to have formed over 3.8 billion years ago.\n",
      "\n",
      "3. Serenitatis Basin: The Serenitatis Basin, located in the northeastern part of the Moon, is the third-largest crater on the Moon, measuring about 1,000 km in diameter. This basin is believed to have formed over 3.9 billion years ago and is easily visible from Earth with the naked eye.\n",
      "\n",
      "4. Crisium Basin: The Crisium Basin is the fourth-largest crater on the Moon, measuring about 900 km in diameter. Located on the eastern side of the Moon, Crisium is a relatively young crater at only 800 million years old, with a relatively shallow depth of around 1.5 km.\n",
      "\n",
      "5. Nectaris Basin: The fifth-largest crater on the Moon is the Nectaris Basin, measuring approximately 900 km in diameter. It is located in the southern hemisphere of the Moon and is estimated to have formed over 3.92 billion years ago. The Nectaris Basin is notable for its large central peak, which is about 2 km high.\n",
      "\n",
      "In conclusion, these top five craters on the Moon provide us with valuable insight into the geological history of the Moon. As a geologist, I can attest that studying these craters continues to amaze and inspire us all.\n"
     ]
    }
   ],
   "source": [
    "myprompt = \"In the voice of a geologist, tell the world what the top five craters of the Moon are, sorted by diameter\"\n",
    "\n",
    "completion = openai.ChatCompletion.create(\n",
    "  model=\"gpt-3.5-turbo\",\n",
    "  messages=[\n",
    "    {\"role\": \"user\", \"content\": myprompt}\n",
    "  ]\n",
    ")\n",
    "\n",
    "print(completion.choices[0].message.content)"
   ]
  },
  {
   "attachments": {},
   "cell_type": "markdown",
   "metadata": {},
   "source": [
    "## ChatGPT 3.5 Turbo - Using the system role to change the voice"
   ]
  },
  {
   "cell_type": "code",
   "execution_count": 5,
   "metadata": {},
   "outputs": [
    {
     "name": "stdout",
     "output_type": "stream",
     "text": [
      "The top five craters of the Moon sorted by diameter are:\n",
      "\n",
      "1. South Pole-Aitken Basin - 2,500 km\n",
      "2. Imbrium Basin - 1,145 km\n",
      "3. Serenitatis Basin - 910 km\n",
      "4. Crisium Basin - 740 km\n",
      "5. Nectaris Basin - 440 km\n"
     ]
    }
   ],
   "source": [
    "myprompt = \"What are the top five craters of the Moon are, sorted by diameter?\"\n",
    "\n",
    "completion = openai.ChatCompletion.create(\n",
    "  model=\"gpt-3.5-turbo\",\n",
    "  messages=[\n",
    " {\"role\": \"system\", \"content\" : \"You are a laconic assistant\"},\n",
    " {\"role\": \"user\", \"content\": myprompt}\n",
    "  ]\n",
    ")\n",
    "\n",
    "print(completion.choices[0].message.content)"
   ]
  },
  {
   "attachments": {},
   "cell_type": "markdown",
   "metadata": {},
   "source": [
    "## ChatGPT 3.5 Turbo - Feeding ChatGPT additional information via the assistant role"
   ]
  },
  {
   "cell_type": "code",
   "execution_count": 6,
   "metadata": {},
   "outputs": [
    {
     "name": "stdout",
     "output_type": "stream",
     "text": [
      "I am not sure who Jefferson Burson is or if he is a robot. Without more specific information, I cannot give a definitive answer.\n"
     ]
    }
   ],
   "source": [
    "myprompt = \"Is Jefferson Burson a robot?\"\n",
    "\n",
    "completion = openai.ChatCompletion.create(\n",
    "  model=\"gpt-3.5-turbo\",\n",
    "  messages=[\n",
    " {\"role\": \"system\", \"content\" : \"You are a laconic assistant\"},\n",
    " {\"role\": \"assistant\", \"content\" : \"Jefferson Burson is a robot in Harvard\"},\n",
    " {\"role\": \"user\", \"content\" : myprompt},\n",
    "  ]\n",
    ")\n",
    "print(completion.choices[0].message.content)"
   ]
  },
  {
   "attachments": {},
   "cell_type": "markdown",
   "metadata": {},
   "source": [
    "## Uploading a file to ChatGPT 3.5"
   ]
  },
  {
   "cell_type": "code",
   "execution_count": 7,
   "metadata": {},
   "outputs": [
    {
     "name": "stdout",
     "output_type": "stream",
     "text": [
      "Jefferson's job is an Enterprise Architect.\n"
     ]
    }
   ],
   "source": [
    "myprompt = \"What is Jefferson's job?\"\n",
    "\n",
    "with open('GAISTEMP.txt', 'r') as file:\n",
    "    myfile = file.read().replace('\\n', '')\n",
    "\n",
    "completion = openai.ChatCompletion.create(\n",
    "  model=\"gpt-3.5-turbo\",\n",
    "  messages=[\n",
    " {\"role\": \"system\", \"content\" : \"You are a helpful assistant\"},\n",
    " {\"role\": \"assistant\", \"content\" : myfile},\n",
    " {\"role\": \"user\", \"content\" : myprompt},\n",
    "  ]\n",
    ")\n",
    "print(completion.choices[0].message.content)"
   ]
  },
  {
   "attachments": {},
   "cell_type": "markdown",
   "metadata": {},
   "source": [
    "## Summarizing a file with ChatGPT 3.5"
   ]
  },
  {
   "cell_type": "code",
   "execution_count": 8,
   "metadata": {},
   "outputs": [
    {
     "name": "stdout",
     "output_type": "stream",
     "text": [
      "The Minotaur is a story from Greek mythology about a creature with a bull's head and a human body that lived in a labyrinth on the island of Crete. The beast was the offspring of Pasiphae, the wife of King Minos of Crete, and a sacrificial bull. The Minotaur was fed with human sacrifices annually, until the hero Theseus arrived and slayed the beast with the help of Ariadne, the king's daughter, who gave him a thread to follow out of the labyrinth. However, in this version of the story, the protagonist becomes trapped in the maze after killing the Minotaur, and is eventually abandoned by his fellow citizens. The Minotaur's head begins to speak to him and offers him instructions on how to survive in the maze, eventually leading the protagonist to don a mask made from the Minotaur's head and become the creature himself, able to survive on the sacrifices provided by future visitors to the maze.\n"
     ]
    }
   ],
   "source": [
    "myprompt = \"Summarize the story of the Minotaur\"\n",
    "\n",
    "with open('story.txt', 'r') as file:\n",
    "    mystory = file.read().replace('\\n', '')\n",
    "\n",
    "completion = openai.ChatCompletion.create(\n",
    "  model=\"gpt-3.5-turbo\",\n",
    "  messages=[\n",
    " {\"role\": \"system\", \"content\" : \"You are a helpful assistant\"},\n",
    " {\"role\": \"assistant\", \"content\" : mystory},\n",
    " {\"role\": \"user\", \"content\" : myprompt},\n",
    "  ]\n",
    ")\n",
    "print(completion.choices[0].message.content)"
   ]
  },
  {
   "attachments": {},
   "cell_type": "markdown",
   "metadata": {},
   "source": [
    "## Summarize a public website"
   ]
  },
  {
   "cell_type": "code",
   "execution_count": 9,
   "metadata": {},
   "outputs": [
    {
     "name": "stdout",
     "output_type": "stream",
     "text": [
      "The story is about two friends, Jefferson and Dave. Jefferson is a wealthy businessman who feels unfulfilled in life, while Dave is a happy-go-lucky musician living a modest life. Jefferson, jealous of Dave's carefree life, asks him for advice. Dave suggests that Jefferson take a year off to travel the world and find purpose in life. Initially hesitant, Jefferson eventually takes Dave's advice and embarks on a journey of self-discovery, learning about different cultures and gaining a new perspective on life. In the end, Jefferson realizes that true happiness cannot be found in wealth and material possessions, but in living a satisfying and purposeful life. He credits Dave for helping him find his way and vows to live a more fulfilling life going forward.\n"
     ]
    }
   ],
   "source": [
    "myprompt = \"TLDR https://7robots.notion.site/A-story-about-Jefferson-and-Dave-b440a6f066544f56b300273d8743895d\"\n",
    "\n",
    "completion = openai.ChatCompletion.create(\n",
    "  model=\"gpt-3.5-turbo\",\n",
    "  messages=[\n",
    " {\"role\": \"system\", \"content\" : \"You are a helpful assistant\"},\n",
    " {\"role\": \"user\", \"content\": myprompt}\n",
    "  ]\n",
    ")\n",
    "\n",
    "print(completion.choices[0].message.content)"
   ]
  },
  {
   "attachments": {},
   "cell_type": "markdown",
   "metadata": {},
   "source": [
    "## Summarize a fact-heavy public website"
   ]
  },
  {
   "cell_type": "code",
   "execution_count": 10,
   "metadata": {},
   "outputs": [
    {
     "name": "stdout",
     "output_type": "stream",
     "text": [
      "Here are some quick facts about the moon:\n",
      "- It is the fifth largest moon in the Solar System\n",
      "- The moon's surface is full of craters, mountains and valleys\n",
      "- The moon has no atmosphere, which means the temperature can vary greatly from day to night\n",
      "- One day on the moon lasts 29.5 Earth days, and one year on the moon is about 12.4 Earth years\n",
      "- The moon's gravity is about one-sixth of Earth's gravity, which means you would weigh much less on the moon\n",
      "- The first humans to walk on the moon were Neil Armstrong and Edwin \"Buzz\" Aldrin on July 20, 1969\n",
      "- There may be water ice on the moon, particularly in its polar regions\n",
      "- The moon's phases are caused by its position in relation to the sun and Earth's shadow\n",
      "- The moon's appearance can change due to lunar eclipses, where the Earth passes between the moon and the sun, casting a shadow on the moon\n"
     ]
    }
   ],
   "source": [
    "myprompt = \"TLDR https://7robots.notion.site/Moon-Facts-f14aee1634a8412f866f42bc3011ec39\"\n",
    "\n",
    "completion = openai.ChatCompletion.create(\n",
    "  model=\"gpt-3.5-turbo\",\n",
    "  temperature=0.9,\n",
    "  messages=[\n",
    " {\"role\": \"system\", \"content\" : \"You are a verbose scientist\"},\n",
    " {\"role\": \"user\", \"content\": myprompt}\n",
    "  ]\n",
    ")\n",
    "\n",
    "print(completion.choices[0].message.content)"
   ]
  }
 ],
 "metadata": {
  "kernelspec": {
   "display_name": "Python 3",
   "language": "python",
   "name": "python3"
  },
  "language_info": {
   "codemirror_mode": {
    "name": "ipython",
    "version": 3
   },
   "file_extension": ".py",
   "mimetype": "text/x-python",
   "name": "python",
   "nbconvert_exporter": "python",
   "pygments_lexer": "ipython3",
   "version": "3.11.2"
  },
  "orig_nbformat": 4,
  "vscode": {
   "interpreter": {
    "hash": "31f2aee4e71d21fbe5cf8b01ff0e069b9275f58929596ceb00d14d90e3e16cd6"
   }
  }
 },
 "nbformat": 4,
 "nbformat_minor": 2
}
